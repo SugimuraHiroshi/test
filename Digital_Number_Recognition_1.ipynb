{
  "cells": [
    {
      "metadata": {},
      "cell_type": "markdown",
      "source": "# 機械学習\n\n## 機械学習(machine learning)とは、コンピュータが大量のデータを入力し、そのデータを解析し、その解析結果から有用な情報（たとえば、ルール）を抽出する技術のことです。\n## 人工知能(Artificial Intelligence)研究の分野では、人間による学習と同様の機能をコンピュータで実現することが目指されています。\n\n## コンピュータは、機械学習によって、\n\n+ データを分類すること\n+ データを予測すること\n+ ルールを抽出すること\n\n## などを行えるようになります。\n"
    },
    {
      "metadata": {},
      "cell_type": "markdown",
      "source": "# 機械学習の一例として、手書き文字認識(Handwriting Character Recognition)について学びましょう。\n\n## 手書き文字認識とは、人が手を使って書いたたくさんの文字をコンピュータに学習させ、コンピュータに文字を与えたときに、コンピュータがその文字を識別できるようにすることです。\n\n\n## コンピュータは、与えられた命令（プログラム）を解釈して、さまざまな機能を実現します。そして、コンピュータに与えるプログラムは、書き換えることができます。したがって、私たちは、コンピュータに与えるプログラムを要求に応じて書き換える事によって、コンピュータに様々な機能を実現させることができます。\n\n## コンピュータに与える命令コード（プログラム）を記述するために用いる言語がプログラミング言語です。これまでに、数え切れないほどたくさんのプログラミング言語が開発され、プログラミング言語は用途に応じて使い分けられています。\n\n## 以下、AI分野で広く使われているPythonというプログラミング言語を使って、コンピュータに手書き文字を認識させます。\n### Pythonは、コードがわかりやすく、比較的短い行数で処理を記述できるプログラミング言語です。その上、Pythonは、数値計算、グラフ描画、機械学習などのための非常に多くのライブラリが整備されているため、データ処理の分野で人気のある言語です。\n\n\n\n\n"
    },
    {
      "metadata": {},
      "cell_type": "markdown",
      "source": "## 1. 手書き数字のデータを読み込み、データを描画する\n"
    },
    {
      "metadata": {
        "trusted": true
      },
      "cell_type": "code",
      "source": "from sklearn import datasets, svm, metrics\nfrom sklearn.model_selection import cross_val_score, train_test_split\nfrom matplotlib import pyplot as plt, cm\n%matplotlib inline\n\ndigits = datasets.load_digits()\ndigits.images.shape\n\ndigits.target[0]\n\ndata = digits.images[0]\n\nplt.imshow(data.reshape(8, 8), cmap = cm.gray_r, interpolation = 'nearest')\nplt.show()",
      "execution_count": 1,
      "outputs": [
        {
          "output_type": "display_data",
          "data": {
            "image/png": "[encoded data removed]",
            "text/plain": "<Figure size 432x288 with 1 Axes>"
          },
          "metadata": {
            "needs_background": "light"
          }
        }
      ]
    },
    {
      "metadata": {
        "trusted": true
      },
      "cell_type": "code",
      "source": "data_train, data_test, label_train, label_test = train_test_split(digits.data, digits.target)\n\nprint(data_train)\nprint(data_test)",
      "execution_count": 2,
      "outputs": [
        {
          "output_type": "stream",
          "text": "[[ 0.  0.  5. ...  4.  0.  0.]\n [ 0.  0.  1. ...  0.  0.  0.]\n [ 0.  0.  0. ... 14.  5.  0.]\n ...\n [ 0.  1.  7. ...  3.  0.  0.]\n [ 0.  0.  2. ... 10.  0.  0.]\n [ 0.  0.  9. ...  0.  0.  0.]]\n[[ 0.  0.  2. ... 12.  0.  0.]\n [ 0.  0. 12. ...  0.  0.  0.]\n [ 0.  0.  2. ...  0.  5.  4.]\n ...\n [ 0.  0.  1. ... 11.  1.  0.]\n [ 0.  0.  5. ...  7.  0.  0.]\n [ 0.  0.  0. ... 15.  5.  0.]]\n",
          "name": "stdout"
        }
      ]
    },
    {
      "metadata": {
        "trusted": true
      },
      "cell_type": "code",
      "source": "clf = svm.SVC(gamma = 0.001)\nclf.fit(data_train, label_train)",
      "execution_count": 3,
      "outputs": [
        {
          "output_type": "execute_result",
          "execution_count": 3,
          "data": {
            "text/plain": "SVC(C=1.0, cache_size=200, class_weight=None, coef0=0.0,\n  decision_function_shape='ovr', degree=3, gamma=0.001, kernel='rbf',\n  max_iter=-1, probability=False, random_state=None, shrinking=True,\n  tol=0.001, verbose=False)"
          },
          "metadata": {}
        }
      ]
    },
    {
      "metadata": {
        "trusted": true
      },
      "cell_type": "code",
      "source": "predict = clf.predict(data_test)",
      "execution_count": 4,
      "outputs": []
    },
    {
      "metadata": {
        "trusted": true
      },
      "cell_type": "code",
      "source": "ac_score = metrics.accuracy_score(label_test, predict)\ncl_report = metrics.classification_report(label_test, predict)\nprint('clasifier information = ', clf)\nprint('correct answer rate = ', ac_score)\nprint('report \\n', cl_report)",
      "execution_count": 5,
      "outputs": [
        {
          "output_type": "stream",
          "text": "clasifier information =  SVC(C=1.0, cache_size=200, class_weight=None, coef0=0.0,\n  decision_function_shape='ovr', degree=3, gamma=0.001, kernel='rbf',\n  max_iter=-1, probability=False, random_state=None, shrinking=True,\n  tol=0.001, verbose=False)\ncorrect answer rate =  0.9888888888888889\nreport \n               precision    recall  f1-score   support\n\n           0       1.00      1.00      1.00        50\n           1       0.98      1.00      0.99        44\n           2       1.00      1.00      1.00        39\n           3       1.00      1.00      1.00        43\n           4       1.00      0.98      0.99        43\n           5       1.00      0.98      0.99        52\n           6       0.97      0.97      0.97        39\n           7       0.98      1.00      0.99        40\n           8       0.96      0.98      0.97        48\n           9       1.00      0.98      0.99        52\n\n   micro avg       0.99      0.99      0.99       450\n   macro avg       0.99      0.99      0.99       450\nweighted avg       0.99      0.99      0.99       450\n\n",
          "name": "stdout"
        }
      ]
    },
    {
      "metadata": {
        "trusted": true
      },
      "cell_type": "code",
      "source": "from sklearn.externals import joblib\n\nDIGITS_PKL = 'digit-clf.pkl'\njoblib.dump(clf, DIGITS_PKL)",
      "execution_count": 6,
      "outputs": [
        {
          "output_type": "execute_result",
          "execution_count": 6,
          "data": {
            "text/plain": "['digit-clf.pkl']"
          },
          "metadata": {}
        }
      ]
    },
    {
      "metadata": {
        "trusted": true
      },
      "cell_type": "code",
      "source": "import os, sys, math\nfrom sklearn import datasets, svm \nfrom sklearn.externals import joblib\n\n# モデルデータファイル名\nDIGITS_PKL = \"digit-clf.pkl\"\n\n# 予測モデルを作成する --- (*1)\ndef train_digits():\n    # 手書き数字データを読み込む\n    digits = datasets.load_digits()\n    # 訓練する\n    data_train = digits.data\n    label_train = digits.target\n    clf = svm.SVC(gamma=0.001)\n    clf.fit(data_train, label_train)\n    # 予測モデルを保存\n    joblib.dump(clf, DIGITS_PKL)\n    print(\"予測モデルを保存しました=\", DIGITS_PKL)\n    return clf\n\n# データから数字を予測する --- (*2)\ndef predict_digits(data):\n    # モデルファイルを読み込む\n    if not os.path.exists(DIGITS_PKL):\n        clf = train_digits() # モデルがなければ生成\n    clf = joblib.load(DIGITS_PKL)\n    # 予測\n    n = clf.predict([data])\n    print(\"判定結果=\", n)\n\n# 手書き数字画像を8x8グレイスケールのデータ配列に変換 --- (*3)\ndef image_to_data(imagefile):\n    import numpy as np\n    from PIL import Image\n    image = Image.open(imagefile).convert('L')\n    image = image.resize((8, 8), Image.ANTIALIAS)\n    img = np.asarray(image, dtype=float)\n    img = np.floor(16 - 16 * (img / 256)) # 行例演算 --- (*3a)\n    # 変換後の画像を表示(コメントを外すと見れます) --- (*3b)\n    import matplotlib.pyplot as plt\n    plt.imshow(img)\n    plt.gray()\n    plt.show()\n    img = img.flatten()\n    print(img)\n    return img \n\ndef main():\n    # コマンドライン引数を得る --- (*4)\n    if len(sys.argv) <= 1:\n        print(\"USAGE:\")\n        print(\"python3 predict_digit.py imagefile\")\n        return\n#    imagefile = sys.argv[1]\n    imagefile = 'test5.png'\n    data = image_to_data(imagefile)\n    predict_digits(data)\n\nif __name__ == '__main__':\n    main()\n\n",
      "execution_count": 9,
      "outputs": [
        {
          "output_type": "display_data",
          "data": {
            "image/png": "[encoded data removed]",
            "text/plain": "<Figure size 432x288 with 1 Axes>"
          },
          "metadata": {
            "needs_background": "light"
          }
        },
        {
          "output_type": "stream",
          "text": "[0. 0. 0. 0. 0. 0. 0. 0. 1. 9. 7. 7. 7. 7. 2. 0. 1. 8. 0. 1. 0. 0. 0. 0.\n 1. 6. 0. 0. 0. 0. 0. 0. 1. 9. 5. 6. 5. 1. 0. 0. 0. 4. 3. 3. 4. 8. 1. 0.\n 0. 0. 0. 0. 2. 9. 2. 0. 0. 3. 8. 8. 8. 2. 0. 0.]\n判定結果= [3]\n",
          "name": "stdout"
        }
      ]
    },
    {
      "metadata": {
        "trusted": true
      },
      "cell_type": "code",
      "source": "import os, sys, math\nfrom sklearn import datasets, svm \nfrom sklearn.externals import joblib\n\n# モデルデータファイル名\nDIGITS_PKL = \"digit-clf.pkl\"\n\n# 予測モデルを作成する --- (*1)\ndef train_digits():\n    # 手書き数字データを読み込む\n    digits = datasets.load_digits()\n    # 訓練する\n    data_train = digits.data\n    label_train = digits.target\n    clf = svm.SVC(gamma=0.001)\n    clf.fit(data_train, label_train)\n    # 予測モデルを保存\n    joblib.dump(clf, DIGITS_PKL)\n    print(\"予測モデルを保存しました=\", DIGITS_PKL)\n    return clf\n\n# データから数字を予測する --- (*2)\ndef predict_digits(data):\n    # モデルファイルを読み込む\n    if not os.path.exists(DIGITS_PKL):\n        clf = train_digits() # モデルがなければ生成\n    clf = joblib.load(DIGITS_PKL)\n    # 予測\n    n = clf.predict([data])\n    print(\"判定結果=\", n)\n\n# 手書き数字画像を8x8グレイスケールのデータ配列に変換 --- (*3)\ndef image_to_data(imagefile):\n    import numpy as np\n    from PIL import Image\n    image = Image.open(imagefile).convert('L')\n    image = image.resize((8, 8), Image.ANTIALIAS)\n    img = np.asarray(image, dtype=float)\n    img = np.floor(16 - 16 * (img / 256)) # 行例演算 --- (*3a)\n    # 変換後の画像を表示(コメントを外すと見れます) --- (*3b)\n    import matplotlib.pyplot as plt\n    plt.imshow(img)\n    plt.gray()\n    plt.show()\n    img = img.flatten()\n    print(img)\n    return img \n\ndef main():\n    # コマンドライン引数を得る --- (*4)\n    if len(sys.argv) <= 1:\n        print(\"USAGE:\")\n        print(\"python3 predict_digit.py imagefile\")\n        return\n#    imagefile = sys.argv[1]\n    imagefile = 'test9.png'\n    data = image_to_data(imagefile)\n    predict_digits(data)\n\nif __name__ == '__main__':\n    main()\n\n",
      "execution_count": 11,
      "outputs": [
        {
          "output_type": "display_data",
          "data": {
            "image/png": "[encoded data removed]",
            "text/plain": "<Figure size 432x288 with 1 Axes>"
          },
          "metadata": {
            "needs_background": "light"
          }
        },
        {
          "output_type": "stream",
          "text": "[ 0.  0.  0.  4.  5.  0.  0.  0.  0.  0.  4.  3.  2.  8.  0.  0.  0.  1.\n  5.  0.  2. 11.  0.  0.  0.  2.  5.  2.  6.  5.  0.  0.  0.  0.  3.  5.\n  1.  4.  0.  0.  0.  0.  0.  0.  0.  5.  1.  0.  0.  0.  0.  0.  0.  4.\n  1.  0.  0.  0.  0.  0.  0.  4.  1.  0.]\n判定結果= [9]\n",
          "name": "stdout"
        }
      ]
    },
    {
      "metadata": {
        "trusted": true
      },
      "cell_type": "code",
      "source": "",
      "execution_count": null,
      "outputs": []
    }
  ],
  "metadata": {
    "kernelspec": {
      "name": "python36",
      "display_name": "Python 3.6",
      "language": "python"
    },
    "language_info": {
      "mimetype": "text/x-python",
      "nbconvert_exporter": "python",
      "name": "python",
      "pygments_lexer": "ipython3",
      "version": "3.6.6",
      "file_extension": ".py",
      "codemirror_mode": {
        "version": 3,
        "name": "ipython"
      }
    }
  },
  "nbformat": 4,
  "nbformat_minor": 2
}